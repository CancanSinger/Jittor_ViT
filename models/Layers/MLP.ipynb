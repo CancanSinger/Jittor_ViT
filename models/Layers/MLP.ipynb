{
 "cells": [
  {
   "cell_type": "code",
   "execution_count": 4,
   "id": "3be08a78",
   "metadata": {},
   "outputs": [
    {
     "name": "stdout",
     "output_type": "stream",
     "text": [
      "Project root determined as: /home/jittor/SCC_Model/ViT\n"
     ]
    }
   ],
   "source": [
    "import jittor as jt\n",
    "from jittor import nn\n",
    "\n",
    "import sys\n",
    "import os\n",
    "\n",
    "current_dir = os.path.abspath('.')\n",
    "project_root = current_dir\n",
    "\n",
    "for _ in range(2):\n",
    "    project_root = os.path.dirname(project_root)\n",
    "print(f\"Project root determined as: {project_root}\")\n",
    "\n",
    "if project_root in sys.path:\n",
    "    sys.path.remove(project_root)\n",
    "\n",
    "sys.path.insert(0, project_root)\n",
    "from config import Config\n",
    "config = Config()\n"
   ]
  },
  {
   "cell_type": "code",
   "execution_count": 6,
   "id": "a542f59d",
   "metadata": {},
   "outputs": [],
   "source": [
    "class MLP_Layer(nn.Module):\n",
    "    def __init__(self, embedded_dim,hidden_dim,out_dim,dropout_rate=config.DROPOUT):\n",
    "        super(MLP_Layer,self).__init__()\n",
    "        self.fc1 = nn.Linear(embedded_dim,hidden_dim)\n",
    "        self.fc2 = nn.Linear(hidden_dim,out_dim)\n",
    "        self.act = nn.GELU()\n",
    "        self.drop = nn.Dropout(dropout_rate)\n",
    "\n",
    "    def execute(self,x):\n",
    "        x = self.fc1(x)\n",
    "        x = self.act(x)\n",
    "        x = self.drop(x)\n",
    "        x = self.fc2(x)\n",
    "        x = self.drop(x)\n",
    "        return x"
   ]
  }
 ],
 "metadata": {
  "kernelspec": {
   "display_name": ".venv",
   "language": "python",
   "name": "python3"
  },
  "language_info": {
   "codemirror_mode": {
    "name": "ipython",
    "version": 3
   },
   "file_extension": ".py",
   "mimetype": "text/x-python",
   "name": "python",
   "nbconvert_exporter": "python",
   "pygments_lexer": "ipython3",
   "version": "3.10.12"
  }
 },
 "nbformat": 4,
 "nbformat_minor": 5
}
