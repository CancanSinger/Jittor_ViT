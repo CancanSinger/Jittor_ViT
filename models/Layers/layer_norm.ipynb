{
 "cells": [
  {
   "cell_type": "code",
   "execution_count": null,
   "id": "aef834f0",
   "metadata": {},
   "outputs": [
    {
     "name": "stderr",
     "output_type": "stream",
     "text": [
      "\u001b[38;5;2m[i 1018 09:40:52.706162 64 log.cc:351] Load log_sync: 1\u001b[m\n",
      "\u001b[38;5;2m[i 1018 09:40:52.742109 64 compiler.py:956] Jittor(1.3.10.0) src: /home/jittor/SCC_Model/ViT/.venv/lib/python3.10/site-packages/jittor\u001b[m\n",
      "\u001b[38;5;2m[i 1018 09:40:52.745549 64 compiler.py:957] g++ at /usr/bin/g++(11.4.0)\u001b[m\n",
      "\u001b[38;5;2m[i 1018 09:40:52.746256 64 compiler.py:958] cache_path: /home/jittor/.cache/jittor/jt1.3.10/g++11.4.0/py3.10.12/Linux-6.6.87.2x4a/AMDRyzen97940Hxd7/fa38/default\u001b[m\n",
      "\u001b[38;5;2m[i 1018 09:40:52.806287 64 install_cuda.py:96] cuda_driver_version: [12, 9]\u001b[m\n",
      "\u001b[38;5;2m[i 1018 09:40:52.807238 64 install_cuda.py:82] needed restart but not /home/jittor/SCC_Model/ViT/.venv/bin/python ['-m', 'ipykernel_launcher', '--f=/mnt/wslg/runtime-dir/jupyter/runtime/kernel-v3dc71955d3ca423815026c5d71c13760bfe3fe31d.json'], you can ignore this warning.\u001b[m\n",
      "\u001b[38;5;2m[i 1018 09:40:52.811612 64 __init__.py:412] Found /home/jittor/.cache/jittor/jtcuda/cuda12.2_cudnn8_linux/bin/nvcc(12.2.140) at /home/jittor/.cache/jittor/jtcuda/cuda12.2_cudnn8_linux/bin/nvcc.\u001b[m\n",
      "\u001b[38;5;2m[i 1018 09:40:52.862263 64 __init__.py:412] Found addr2line(2.38) at /usr/bin/addr2line.\u001b[m\n",
      "\u001b[38;5;2m[i 1018 09:40:52.928675 64 compiler.py:1013] cuda key:cu12.2.140\u001b[m\n",
      "\u001b[38;5;2m[i 1018 09:40:53.287221 64 __init__.py:227] Total mem: 7.37GB, using 2 procs for compiling.\u001b[m\n",
      "\u001b[38;5;2m[i 1018 09:40:53.399476 64 jit_compiler.cc:28] Load cc_path: /usr/bin/g++\u001b[m\n",
      "\u001b[38;5;2m[i 1018 09:40:53.633322 64 init.cc:63] Found cuda archs: [89,]\u001b[m\n"
     ]
    },
    {
     "name": "stdout",
     "output_type": "stream",
     "text": [
      "Current directory: /home/jittor/SCC_Model/ViT/models/Layers\n",
      "Project root determined as: /home/jittor/SCC_Model/ViT\n"
     ]
    }
   ],
   "source": [
    "import jittor as jt\n",
    "from jittor import nn\n",
    "\n",
    "import sys\n",
    "import os\n",
    "\n",
    "current_dir = os.path.abspath('.')\n",
    "project_root = current_dir\n",
    "\n",
    "for _ in range(2):\n",
    "    project_root = os.path.dirname(project_root)\n",
    "print(f\"Project root determined as: {project_root}\")\n",
    "\n",
    "if project_root in sys.path:\n",
    "    sys.path.remove(project_root)\n",
    "\n",
    "sys.path.insert(0, project_root)"
   ]
  },
  {
   "cell_type": "code",
   "execution_count": 2,
   "id": "fcc54ecb",
   "metadata": {},
   "outputs": [],
   "source": [
    "class LayerNorm(nn.Module):\n",
    "    def __init__(self, normalized_shape, eps=1e-6):\n",
    "        super(LayerNorm, self).__init__()\n",
    "        self.norm = nn.LayerNorm(normalized_shape, eps=eps)\n",
    "        \n",
    "    def execute(self, x: jt.Var) -> jt.Var:\n",
    "        return self.norm(x)"
   ]
  },
  {
   "cell_type": "code",
   "execution_count": 3,
   "id": "44dbb74c",
   "metadata": {},
   "outputs": [],
   "source": [
    "# 创建LayerNorm，指定最后一个维度的大小\n",
    "norm = LayerNorm(normalized_shape=768)  # embed_dim=768\n",
    "\n",
    "# 输入三维张量\n",
    "x = jt.randn(32, 197, 768)  # [batch_size, sequence_length, embed_dim]\n",
    "output = norm(x)  # 直接处理整个三维张量"
   ]
  }
 ],
 "metadata": {
  "kernelspec": {
   "display_name": ".venv",
   "language": "python",
   "name": "python3"
  },
  "language_info": {
   "codemirror_mode": {
    "name": "ipython",
    "version": 3
   },
   "file_extension": ".py",
   "mimetype": "text/x-python",
   "name": "python",
   "nbconvert_exporter": "python",
   "pygments_lexer": "ipython3",
   "version": "3.10.12"
  }
 },
 "nbformat": 4,
 "nbformat_minor": 5
}
