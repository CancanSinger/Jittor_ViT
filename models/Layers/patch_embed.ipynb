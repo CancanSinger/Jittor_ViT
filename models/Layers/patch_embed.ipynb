{
 "cells": [
  {
   "cell_type": "code",
   "execution_count": 1,
   "id": "ae75cff6",
   "metadata": {},
   "outputs": [
    {
     "name": "stderr",
     "output_type": "stream",
     "text": [
      "\u001b[38;5;2m[i 1018 15:45:36.372061 84 log.cc:351] Load log_sync: 1\u001b[m\n",
      "\u001b[38;5;2m[i 1018 15:45:36.411550 84 compiler.py:956] Jittor(1.3.10.0) src: /home/jittor/SCC_Model/ViT/.venv/lib/python3.10/site-packages/jittor\u001b[m\n",
      "\u001b[38;5;2m[i 1018 15:45:36.416654 84 compiler.py:957] g++ at /usr/bin/g++(11.4.0)\u001b[m\n",
      "\u001b[38;5;2m[i 1018 15:45:36.417643 84 compiler.py:958] cache_path: /home/jittor/.cache/jittor/jt1.3.10/g++11.4.0/py3.10.12/Linux-6.6.87.2x4a/AMDRyzen97940Hxd7/fa38/default\u001b[m\n",
      "\u001b[38;5;2m[i 1018 15:45:36.489596 84 install_cuda.py:96] cuda_driver_version: [12, 9]\u001b[m\n",
      "\u001b[38;5;2m[i 1018 15:45:36.490744 84 install_cuda.py:82] needed restart but not /home/jittor/SCC_Model/ViT/.venv/bin/python ['-m', 'ipykernel_launcher', '--f=/mnt/wslg/runtime-dir/jupyter/runtime/kernel-v317b83fd22ffccfad1c5be6adfbe5285838de161b.json'], you can ignore this warning.\u001b[m\n",
      "\u001b[38;5;2m[i 1018 15:45:36.500217 84 __init__.py:412] Found /home/jittor/.cache/jittor/jtcuda/cuda12.2_cudnn8_linux/bin/nvcc(12.2.140) at /home/jittor/.cache/jittor/jtcuda/cuda12.2_cudnn8_linux/bin/nvcc.\u001b[m\n",
      "\u001b[38;5;2m[i 1018 15:45:36.556592 84 __init__.py:412] Found addr2line(2.38) at /usr/bin/addr2line.\u001b[m\n",
      "\u001b[38;5;2m[i 1018 15:45:36.626673 84 compiler.py:1013] cuda key:cu12.2.140\u001b[m\n",
      "\u001b[38;5;2m[i 1018 15:45:37.150767 84 __init__.py:227] Total mem: 7.37GB, using 2 procs for compiling.\u001b[m\n",
      "\u001b[38;5;2m[i 1018 15:45:37.369973 84 jit_compiler.cc:28] Load cc_path: /usr/bin/g++\u001b[m\n",
      "\u001b[38;5;2m[i 1018 15:45:37.588255 84 init.cc:63] Found cuda archs: [89,]\u001b[m\n"
     ]
    },
    {
     "name": "stdout",
     "output_type": "stream",
     "text": [
      "Project root determined as: /home/jittor/SCC_Model/ViT\n"
     ]
    }
   ],
   "source": [
    "import jittor as jt\n",
    "from jittor import nn\n",
    "import math\n",
    "\n",
    "import sys\n",
    "import os\n",
    "\n",
    "current_dir = os.path.abspath('.')\n",
    "project_root = current_dir\n",
    "\n",
    "for _ in range(2):\n",
    "    project_root = os.path.dirname(project_root)\n",
    "print(f\"Project root determined as: {project_root}\")\n",
    "\n",
    "if project_root in sys.path:\n",
    "    sys.path.remove(project_root)\n",
    "\n",
    "sys.path.insert(0, project_root)\n",
    "        "
   ]
  },
  {
   "cell_type": "code",
   "execution_count": 2,
   "id": "1da0e439",
   "metadata": {},
   "outputs": [],
   "source": [
    "from config import Config\n",
    "config = Config()"
   ]
  },
  {
   "cell_type": "code",
   "execution_count": null,
   "id": "508e8e77",
   "metadata": {},
   "outputs": [],
   "source": [
    "class patch_embedding_Layer(nn.Module):\n",
    "    def __init__(self, \n",
    "                img_size=config.IMG_SIZE, \n",
    "                in_channels=config.IN_CHANNELS, \n",
    "                patch_size=config.PATCH_SIZE, \n",
    "                embed_dim=config.EMBED_DIM):\n",
    "        super(patch_embedding_Layer, self).__init__()\n",
    "        self.img_size = img_size\n",
    "        self.patch_size = patch_size\n",
    "        self.num_patches = (img_size // patch_size) ** 2\n",
    "\n",
    "        self.proj = nn.Conv2d(in_channels, embed_dim, kernel_size=patch_size, stride=patch_size)\n",
    "        \n",
    "        # 使用可学习的参数\n",
    "        self.class_token = jt.init.gauss((1, 1, embed_dim))\n",
    "        self.position_embed = jt.init.gauss((1, 1 + self.num_patches, embed_dim))\n",
    "        \n",
    "        # 添加归一化层\n",
    "        self.norm = nn.LayerNorm(embed_dim)\n",
    "\n",
    "    def execute(self, x):\n",
    "        B, C, H, W = x.shape\n",
    "        assert H == self.img_size and W == self.img_size,\\\n",
    "            f\"Input image size ({H}*{W}) doesn't match model ({self.img_size}*{self.img_size}).\"\n",
    "        \n",
    "        x = self.proj(x).view(B, self.num_patches, -1)\n",
    "        \n",
    "        # 添加class token\n",
    "        x = jt.concat([self.class_token.expand(B, -1, -1), x], dim=1)\n",
    "        \n",
    "        # 添加位置编码\n",
    "        x = x + self.position_embed.expand(B, -1, -1)\n",
    "        \n",
    "        # 添加归一化\n",
    "        x = self.norm(x)\n",
    "        \n",
    "        return x\n"
   ]
  },
  {
   "cell_type": "code",
   "execution_count": null,
   "id": "cb5cabd4",
   "metadata": {},
   "outputs": [],
   "source": []
  }
 ],
 "metadata": {
  "kernelspec": {
   "display_name": ".venv",
   "language": "python",
   "name": "python3"
  },
  "language_info": {
   "codemirror_mode": {
    "name": "ipython",
    "version": 3
   },
   "file_extension": ".py",
   "mimetype": "text/x-python",
   "name": "python",
   "nbconvert_exporter": "python",
   "pygments_lexer": "ipython3",
   "version": "3.10.12"
  }
 },
 "nbformat": 4,
 "nbformat_minor": 5
}
