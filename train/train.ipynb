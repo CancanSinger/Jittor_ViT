{
 "cells": [
  {
   "cell_type": "code",
   "execution_count": 2,
   "id": "cda36f51",
   "metadata": {},
   "outputs": [
    {
     "name": "stderr",
     "output_type": "stream",
     "text": [
      "\u001b[38;5;2m[i 1022 17:06:57.879610 04 log.cc:351] Load log_sync: 1\u001b[m\n",
      "\u001b[38;5;2m[i 1022 17:06:57.883801 04 compiler.py:956] Jittor(1.3.10.0) src: /home/jittor/SCC_Model/ViT/.venv/lib/python3.10/site-packages/jittor\u001b[m\n",
      "\u001b[38;5;2m[i 1022 17:06:57.887327 04 compiler.py:957] g++ at /usr/bin/g++(11.4.0)\u001b[m\n",
      "\u001b[38;5;2m[i 1022 17:06:57.888220 04 compiler.py:958] cache_path: /home/jittor/.cache/jittor/jt1.3.10/g++11.4.0/py3.10.12/Linux-6.6.87.2x4a/AMDRyzen97940Hxd7/fa38/main\u001b[m\n",
      "\u001b[38;5;2m[i 1022 17:06:57.995264 04 install_cuda.py:96] cuda_driver_version: [12, 9]\u001b[m\n",
      "\u001b[38;5;2m[i 1022 17:06:57.996372 04 install_cuda.py:82] needed restart but not /home/jittor/SCC_Model/ViT/.venv/bin/python ['-m', 'ipykernel_launcher', '--f=/mnt/wslg/runtime-dir/jupyter/runtime/kernel-v35e29d1b52e4a1ce7b57e24a0b73e85c301849b4c.json'], you can ignore this warning.\u001b[m\n",
      "\u001b[38;5;2m[i 1022 17:06:58.005586 04 __init__.py:412] Found /home/jittor/.cache/jittor/jtcuda/cuda12.2_cudnn8_linux/bin/nvcc(12.2.140) at /home/jittor/.cache/jittor/jtcuda/cuda12.2_cudnn8_linux/bin/nvcc.\u001b[m\n",
      "\u001b[38;5;2m[i 1022 17:06:58.059929 04 __init__.py:412] Found addr2line(2.38) at /usr/bin/addr2line.\u001b[m\n",
      "\u001b[38;5;2m[i 1022 17:06:58.129297 04 compiler.py:1013] cuda key:cu12.2.140\u001b[m\n",
      "\u001b[38;5;2m[i 1022 17:06:58.709581 04 __init__.py:227] Total mem: 7.37GB, using 2 procs for compiling.\u001b[m\n",
      "\u001b[38;5;2m[i 1022 17:06:58.927228 04 jit_compiler.cc:28] Load cc_path: /usr/bin/g++\u001b[m\n",
      "\u001b[38;5;2m[i 1022 17:06:59.189554 04 init.cc:63] Found cuda archs: [89,]\u001b[m\n"
     ]
    }
   ],
   "source": [
    "import jittor as jt\n",
    "from jittor import nn"
   ]
  },
  {
   "cell_type": "code",
   "execution_count": 3,
   "id": "bf344468",
   "metadata": {},
   "outputs": [],
   "source": [
    "import os\n",
    "import sys\n",
    "current_dir = os.path.abspath('.')\n",
    "project_root = os.path.dirname(current_dir)\n",
    "\n",
    "if project_root in sys.path:\n",
    "    sys.path.remove(project_root)\n",
    "\n",
    "sys.path.insert(0, project_root)"
   ]
  },
  {
   "cell_type": "code",
   "execution_count": 5,
   "id": "ecd4fa70",
   "metadata": {},
   "outputs": [],
   "source": [
    "from data_loader import Tomato_DataSet\n",
    "from models.vit_model import Visual_Transformer\n",
    "from config import Config"
   ]
  },
  {
   "cell_type": "code",
   "execution_count": null,
   "id": "dc958c0d",
   "metadata": {},
   "outputs": [],
   "source": [
    "def train_model():\n",
    "    # 创建模型\n",
    "    model = Visual_Transformer()\n",
    "    # 创建损失函数\n",
    "    criterion = nn.CrossEntropyLoss()\n",
    "    # 创建优化器\n",
    "    optimizer = optim.Adam(model.parameters(), lr=config.LEARNING_RATE, weight_decay=config.WEIGHT_DECAY)\n",
    "    #学习率调度器\n",
    "    scheduler = optim.lr_scheduler.StepLR(optimizer, step_size=config.STEP_SIZE, gamma=config.GAMMA)\n",
    "    # 创建数据加载器\n",
    "    train_loader = Tomato_DataSet.create_dataloader(\n",
    "        data_root_dir=DATASET_PATH,\n",
    "        images_train_dir=IMAGE_Train_PATH,\n",
    "        labels_train_dir=LABEL_Train_PATH,\n",
    "        batch_size=config.BATCH_SIZE,\n",
    "        img_size=config.IMG_SIZE\n",
    "    )\n",
    "\n",
    "    val_loader = Tomato_DataSet.create_dataloader(\n",
    "        data_root_dir=DATASET_PATH,\n",
    "        images_val_dir=IMAGE_Val_PATH,\n",
    "        labels_val_dir=LABEL_Val_PATH,\n",
    "        batch_size=config.BATCH_SIZE,\n",
    "        img_size=config.IMG_SIZE,\n",
    "        is_train=False\n",
    "    )\n",
    "\n",
    "    # 训练模型\n",
    "    for epoch in range(config.EPOCHS):\n",
    "        #训练阶段\n",
    "        model.train()\n",
    "        train_loss = 0.0\n",
    "        train_correct = 0\n",
    "        train_total = 0\n",
    "\n",
    "        #train_loader里面是batch_size个数据\n",
    "        for i,(images,boxes,labels) in enumerate(train_loader):\n",
    "            #处理标签\n",
    "            target_labels =[]\n",
    "            \n",
    "            \n",
    "                "
   ]
  }
 ],
 "metadata": {
  "kernelspec": {
   "display_name": ".venv",
   "language": "python",
   "name": "python3"
  },
  "language_info": {
   "codemirror_mode": {
    "name": "ipython",
    "version": 3
   },
   "file_extension": ".py",
   "mimetype": "text/x-python",
   "name": "python",
   "nbconvert_exporter": "python",
   "pygments_lexer": "ipython3",
   "version": "3.10.12"
  }
 },
 "nbformat": 4,
 "nbformat_minor": 5
}
